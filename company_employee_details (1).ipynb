{
  "nbformat": 4,
  "nbformat_minor": 0,
  "metadata": {
    "colab": {
      "provenance": []
    },
    "kernelspec": {
      "name": "python3",
      "display_name": "Python 3"
    },
    "language_info": {
      "name": "python"
    },
    "widgets": {
      "application/vnd.jupyter.widget-state+json": {
        "4eee1733b6974d60ac5955d1c70b4048": {
          "model_module": "@jupyter-widgets/controls",
          "model_name": "DropdownModel",
          "model_module_version": "1.5.0",
          "state": {
            "_dom_classes": [],
            "_model_module": "@jupyter-widgets/controls",
            "_model_module_version": "1.5.0",
            "_model_name": "DropdownModel",
            "_options_labels": [
              "Glasses",
              "Cheerper",
              "Pear"
            ],
            "_view_count": null,
            "_view_module": "@jupyter-widgets/controls",
            "_view_module_version": "1.5.0",
            "_view_name": "DropdownView",
            "description": "Company:",
            "description_tooltip": null,
            "disabled": false,
            "index": 0,
            "layout": "IPY_MODEL_3210c51a884142ef95677ed37fc904e2",
            "style": "IPY_MODEL_ea7392a115f54fe78b961b83f3e8f5ce"
          }
        },
        "3210c51a884142ef95677ed37fc904e2": {
          "model_module": "@jupyter-widgets/base",
          "model_name": "LayoutModel",
          "model_module_version": "1.2.0",
          "state": {
            "_model_module": "@jupyter-widgets/base",
            "_model_module_version": "1.2.0",
            "_model_name": "LayoutModel",
            "_view_count": null,
            "_view_module": "@jupyter-widgets/base",
            "_view_module_version": "1.2.0",
            "_view_name": "LayoutView",
            "align_content": null,
            "align_items": null,
            "align_self": null,
            "border": null,
            "bottom": null,
            "display": null,
            "flex": null,
            "flex_flow": null,
            "grid_area": null,
            "grid_auto_columns": null,
            "grid_auto_flow": null,
            "grid_auto_rows": null,
            "grid_column": null,
            "grid_gap": null,
            "grid_row": null,
            "grid_template_areas": null,
            "grid_template_columns": null,
            "grid_template_rows": null,
            "height": null,
            "justify_content": null,
            "justify_items": null,
            "left": null,
            "margin": null,
            "max_height": null,
            "max_width": null,
            "min_height": null,
            "min_width": null,
            "object_fit": null,
            "object_position": null,
            "order": null,
            "overflow": null,
            "overflow_x": null,
            "overflow_y": null,
            "padding": null,
            "right": null,
            "top": null,
            "visibility": null,
            "width": null
          }
        },
        "ea7392a115f54fe78b961b83f3e8f5ce": {
          "model_module": "@jupyter-widgets/controls",
          "model_name": "DescriptionStyleModel",
          "model_module_version": "1.5.0",
          "state": {
            "_model_module": "@jupyter-widgets/controls",
            "_model_module_version": "1.5.0",
            "_model_name": "DescriptionStyleModel",
            "_view_count": null,
            "_view_module": "@jupyter-widgets/base",
            "_view_module_version": "1.2.0",
            "_view_name": "StyleView",
            "description_width": ""
          }
        },
        "40d7c7c905ba4b4aba1e464227a9442a": {
          "model_module": "@jupyter-widgets/controls",
          "model_name": "DropdownModel",
          "model_module_version": "1.5.0",
          "state": {
            "_dom_classes": [],
            "_model_module": "@jupyter-widgets/controls",
            "_model_module_version": "1.5.0",
            "_model_name": "DropdownModel",
            "_options_labels": [
              "3",
              "2",
              "1",
              "7",
              "9",
              "5",
              "4",
              "6",
              "8"
            ],
            "_view_count": null,
            "_view_module": "@jupyter-widgets/controls",
            "_view_module_version": "1.5.0",
            "_view_name": "DropdownView",
            "description": "years_in_the_company:",
            "description_tooltip": null,
            "disabled": false,
            "index": 0,
            "layout": "IPY_MODEL_78dce92e802d442095eb7bbe3e8e7cd1",
            "style": "IPY_MODEL_35500d5c287840ffac2d5e7d0e55e65c"
          }
        },
        "78dce92e802d442095eb7bbe3e8e7cd1": {
          "model_module": "@jupyter-widgets/base",
          "model_name": "LayoutModel",
          "model_module_version": "1.2.0",
          "state": {
            "_model_module": "@jupyter-widgets/base",
            "_model_module_version": "1.2.0",
            "_model_name": "LayoutModel",
            "_view_count": null,
            "_view_module": "@jupyter-widgets/base",
            "_view_module_version": "1.2.0",
            "_view_name": "LayoutView",
            "align_content": null,
            "align_items": null,
            "align_self": null,
            "border": null,
            "bottom": null,
            "display": null,
            "flex": null,
            "flex_flow": null,
            "grid_area": null,
            "grid_auto_columns": null,
            "grid_auto_flow": null,
            "grid_auto_rows": null,
            "grid_column": null,
            "grid_gap": null,
            "grid_row": null,
            "grid_template_areas": null,
            "grid_template_columns": null,
            "grid_template_rows": null,
            "height": null,
            "justify_content": null,
            "justify_items": null,
            "left": null,
            "margin": null,
            "max_height": null,
            "max_width": null,
            "min_height": null,
            "min_width": null,
            "object_fit": null,
            "object_position": null,
            "order": null,
            "overflow": null,
            "overflow_x": null,
            "overflow_y": null,
            "padding": null,
            "right": null,
            "top": null,
            "visibility": null,
            "width": null
          }
        },
        "35500d5c287840ffac2d5e7d0e55e65c": {
          "model_module": "@jupyter-widgets/controls",
          "model_name": "DescriptionStyleModel",
          "model_module_version": "1.5.0",
          "state": {
            "_model_module": "@jupyter-widgets/controls",
            "_model_module_version": "1.5.0",
            "_model_name": "DescriptionStyleModel",
            "_view_count": null,
            "_view_module": "@jupyter-widgets/base",
            "_view_module_version": "1.2.0",
            "_view_name": "StyleView",
            "description_width": ""
          }
        },
        "a5fa4612abdb46f5973b227bb284a0f3": {
          "model_module": "@jupyter-widgets/controls",
          "model_name": "SelectMultipleModel",
          "model_module_version": "1.5.0",
          "state": {
            "_dom_classes": [],
            "_model_module": "@jupyter-widgets/controls",
            "_model_module_version": "1.5.0",
            "_model_name": "SelectMultipleModel",
            "_options_labels": [
              "BigData",
              "AI",
              "Support",
              "Design",
              "Search Engine",
              "Sales"
            ],
            "_view_count": null,
            "_view_module": "@jupyter-widgets/controls",
            "_view_module_version": "1.5.0",
            "_view_name": "SelectMultipleView",
            "description": "Department:",
            "description_tooltip": null,
            "disabled": false,
            "index": [
              0,
              1,
              2,
              3,
              4,
              5
            ],
            "layout": "IPY_MODEL_216da9a239d6404580112c8ac98e5a39",
            "rows": 5,
            "style": "IPY_MODEL_7e896343888341b3abef186365525425"
          }
        },
        "216da9a239d6404580112c8ac98e5a39": {
          "model_module": "@jupyter-widgets/base",
          "model_name": "LayoutModel",
          "model_module_version": "1.2.0",
          "state": {
            "_model_module": "@jupyter-widgets/base",
            "_model_module_version": "1.2.0",
            "_model_name": "LayoutModel",
            "_view_count": null,
            "_view_module": "@jupyter-widgets/base",
            "_view_module_version": "1.2.0",
            "_view_name": "LayoutView",
            "align_content": null,
            "align_items": null,
            "align_self": null,
            "border": null,
            "bottom": null,
            "display": null,
            "flex": null,
            "flex_flow": null,
            "grid_area": null,
            "grid_auto_columns": null,
            "grid_auto_flow": null,
            "grid_auto_rows": null,
            "grid_column": null,
            "grid_gap": null,
            "grid_row": null,
            "grid_template_areas": null,
            "grid_template_columns": null,
            "grid_template_rows": null,
            "height": null,
            "justify_content": null,
            "justify_items": null,
            "left": null,
            "margin": null,
            "max_height": null,
            "max_width": null,
            "min_height": null,
            "min_width": null,
            "object_fit": null,
            "object_position": null,
            "order": null,
            "overflow": null,
            "overflow_x": null,
            "overflow_y": null,
            "padding": null,
            "right": null,
            "top": null,
            "visibility": null,
            "width": null
          }
        },
        "7e896343888341b3abef186365525425": {
          "model_module": "@jupyter-widgets/controls",
          "model_name": "DescriptionStyleModel",
          "model_module_version": "1.5.0",
          "state": {
            "_model_module": "@jupyter-widgets/controls",
            "_model_module_version": "1.5.0",
            "_model_name": "DescriptionStyleModel",
            "_view_count": null,
            "_view_module": "@jupyter-widgets/base",
            "_view_module_version": "1.2.0",
            "_view_name": "StyleView",
            "description_width": ""
          }
        },
        "a96682b0d7fc4723886587cfcbba412c": {
          "model_module": "@jupyter-widgets/controls",
          "model_name": "IntRangeSliderModel",
          "model_module_version": "1.5.0",
          "state": {
            "_dom_classes": [],
            "_model_module": "@jupyter-widgets/controls",
            "_model_module_version": "1.5.0",
            "_model_name": "IntRangeSliderModel",
            "_view_count": null,
            "_view_module": "@jupyter-widgets/controls",
            "_view_module_version": "1.5.0",
            "_view_name": "IntRangeSliderView",
            "continuous_update": true,
            "description": "Salary Range:",
            "description_tooltip": null,
            "disabled": false,
            "layout": "IPY_MODEL_9d3a035740d049de903a535dbba2bf0a",
            "max": 153000,
            "min": 40000,
            "orientation": "horizontal",
            "readout": true,
            "readout_format": "d",
            "step": 1000,
            "style": "IPY_MODEL_b596257f2897460d8e200aefb5e15e24",
            "value": [
              40000,
              153000
            ]
          }
        },
        "9d3a035740d049de903a535dbba2bf0a": {
          "model_module": "@jupyter-widgets/base",
          "model_name": "LayoutModel",
          "model_module_version": "1.2.0",
          "state": {
            "_model_module": "@jupyter-widgets/base",
            "_model_module_version": "1.2.0",
            "_model_name": "LayoutModel",
            "_view_count": null,
            "_view_module": "@jupyter-widgets/base",
            "_view_module_version": "1.2.0",
            "_view_name": "LayoutView",
            "align_content": null,
            "align_items": null,
            "align_self": null,
            "border": null,
            "bottom": null,
            "display": null,
            "flex": null,
            "flex_flow": null,
            "grid_area": null,
            "grid_auto_columns": null,
            "grid_auto_flow": null,
            "grid_auto_rows": null,
            "grid_column": null,
            "grid_gap": null,
            "grid_row": null,
            "grid_template_areas": null,
            "grid_template_columns": null,
            "grid_template_rows": null,
            "height": null,
            "justify_content": null,
            "justify_items": null,
            "left": null,
            "margin": null,
            "max_height": null,
            "max_width": null,
            "min_height": null,
            "min_width": null,
            "object_fit": null,
            "object_position": null,
            "order": null,
            "overflow": null,
            "overflow_x": null,
            "overflow_y": null,
            "padding": null,
            "right": null,
            "top": null,
            "visibility": null,
            "width": null
          }
        },
        "b596257f2897460d8e200aefb5e15e24": {
          "model_module": "@jupyter-widgets/controls",
          "model_name": "SliderStyleModel",
          "model_module_version": "1.5.0",
          "state": {
            "_model_module": "@jupyter-widgets/controls",
            "_model_module_version": "1.5.0",
            "_model_name": "SliderStyleModel",
            "_view_count": null,
            "_view_module": "@jupyter-widgets/base",
            "_view_module_version": "1.2.0",
            "_view_name": "StyleView",
            "description_width": "",
            "handle_color": null
          }
        }
      }
    }
  },
  "cells": [
    {
      "cell_type": "code",
      "execution_count": 3,
      "metadata": {
        "colab": {
          "base_uri": "https://localhost:8080/",
          "height": 261
        },
        "id": "HX5tqALKuEkr",
        "outputId": "a44d628e-53fc-46f1-b712-2906f85e5b84"
      },
      "outputs": [
        {
          "output_type": "execute_result",
          "data": {
            "text/plain": [
              "   Unnamed: 0   company     department  employee_id  age  age_when_joined  \\\n",
              "0           0   Glasses        BigData           16   41               38   \n",
              "1           1   Glasses             AI           56   44               42   \n",
              "2           2  Cheerper        Support           59   41               40   \n",
              "3           3   Glasses         Design           40   39               32   \n",
              "4           4   Glasses  Search Engine           47   30               22   \n",
              "\n",
              "   years_in_the_company        salary  annual_bonus  prior_years_experience  \\\n",
              "0                     3   68074.97135   17664.10410                       3   \n",
              "1                     2   49092.14746   21551.14108                       2   \n",
              "2                     1   40000.00000   23698.87885                       2   \n",
              "3                     7  108192.46550   21570.92966                       1   \n",
              "4                     9   71291.19113   21565.50572                       2   \n",
              "\n",
              "   full_time  part_time  contractor  \n",
              "0   0.000000   0.000000    1.000000  \n",
              "1   0.000000   0.184991    1.000000  \n",
              "2   0.000000   0.919887    0.662706  \n",
              "3   0.930396   0.546206    0.000000  \n",
              "4   0.525432   0.938412    0.000000  "
            ],
            "text/html": [
              "\n",
              "  <div id=\"df-9e35a99f-defd-4177-ad8b-72e1042a716a\" class=\"colab-df-container\">\n",
              "    <div>\n",
              "<style scoped>\n",
              "    .dataframe tbody tr th:only-of-type {\n",
              "        vertical-align: middle;\n",
              "    }\n",
              "\n",
              "    .dataframe tbody tr th {\n",
              "        vertical-align: top;\n",
              "    }\n",
              "\n",
              "    .dataframe thead th {\n",
              "        text-align: right;\n",
              "    }\n",
              "</style>\n",
              "<table border=\"1\" class=\"dataframe\">\n",
              "  <thead>\n",
              "    <tr style=\"text-align: right;\">\n",
              "      <th></th>\n",
              "      <th>Unnamed: 0</th>\n",
              "      <th>company</th>\n",
              "      <th>department</th>\n",
              "      <th>employee_id</th>\n",
              "      <th>age</th>\n",
              "      <th>age_when_joined</th>\n",
              "      <th>years_in_the_company</th>\n",
              "      <th>salary</th>\n",
              "      <th>annual_bonus</th>\n",
              "      <th>prior_years_experience</th>\n",
              "      <th>full_time</th>\n",
              "      <th>part_time</th>\n",
              "      <th>contractor</th>\n",
              "    </tr>\n",
              "  </thead>\n",
              "  <tbody>\n",
              "    <tr>\n",
              "      <th>0</th>\n",
              "      <td>0</td>\n",
              "      <td>Glasses</td>\n",
              "      <td>BigData</td>\n",
              "      <td>16</td>\n",
              "      <td>41</td>\n",
              "      <td>38</td>\n",
              "      <td>3</td>\n",
              "      <td>68074.97135</td>\n",
              "      <td>17664.10410</td>\n",
              "      <td>3</td>\n",
              "      <td>0.000000</td>\n",
              "      <td>0.000000</td>\n",
              "      <td>1.000000</td>\n",
              "    </tr>\n",
              "    <tr>\n",
              "      <th>1</th>\n",
              "      <td>1</td>\n",
              "      <td>Glasses</td>\n",
              "      <td>AI</td>\n",
              "      <td>56</td>\n",
              "      <td>44</td>\n",
              "      <td>42</td>\n",
              "      <td>2</td>\n",
              "      <td>49092.14746</td>\n",
              "      <td>21551.14108</td>\n",
              "      <td>2</td>\n",
              "      <td>0.000000</td>\n",
              "      <td>0.184991</td>\n",
              "      <td>1.000000</td>\n",
              "    </tr>\n",
              "    <tr>\n",
              "      <th>2</th>\n",
              "      <td>2</td>\n",
              "      <td>Cheerper</td>\n",
              "      <td>Support</td>\n",
              "      <td>59</td>\n",
              "      <td>41</td>\n",
              "      <td>40</td>\n",
              "      <td>1</td>\n",
              "      <td>40000.00000</td>\n",
              "      <td>23698.87885</td>\n",
              "      <td>2</td>\n",
              "      <td>0.000000</td>\n",
              "      <td>0.919887</td>\n",
              "      <td>0.662706</td>\n",
              "    </tr>\n",
              "    <tr>\n",
              "      <th>3</th>\n",
              "      <td>3</td>\n",
              "      <td>Glasses</td>\n",
              "      <td>Design</td>\n",
              "      <td>40</td>\n",
              "      <td>39</td>\n",
              "      <td>32</td>\n",
              "      <td>7</td>\n",
              "      <td>108192.46550</td>\n",
              "      <td>21570.92966</td>\n",
              "      <td>1</td>\n",
              "      <td>0.930396</td>\n",
              "      <td>0.546206</td>\n",
              "      <td>0.000000</td>\n",
              "    </tr>\n",
              "    <tr>\n",
              "      <th>4</th>\n",
              "      <td>4</td>\n",
              "      <td>Glasses</td>\n",
              "      <td>Search Engine</td>\n",
              "      <td>47</td>\n",
              "      <td>30</td>\n",
              "      <td>22</td>\n",
              "      <td>9</td>\n",
              "      <td>71291.19113</td>\n",
              "      <td>21565.50572</td>\n",
              "      <td>2</td>\n",
              "      <td>0.525432</td>\n",
              "      <td>0.938412</td>\n",
              "      <td>0.000000</td>\n",
              "    </tr>\n",
              "  </tbody>\n",
              "</table>\n",
              "</div>\n",
              "    <div class=\"colab-df-buttons\">\n",
              "\n",
              "  <div class=\"colab-df-container\">\n",
              "    <button class=\"colab-df-convert\" onclick=\"convertToInteractive('df-9e35a99f-defd-4177-ad8b-72e1042a716a')\"\n",
              "            title=\"Convert this dataframe to an interactive table.\"\n",
              "            style=\"display:none;\">\n",
              "\n",
              "  <svg xmlns=\"http://www.w3.org/2000/svg\" height=\"24px\" viewBox=\"0 -960 960 960\">\n",
              "    <path d=\"M120-120v-720h720v720H120Zm60-500h600v-160H180v160Zm220 220h160v-160H400v160Zm0 220h160v-160H400v160ZM180-400h160v-160H180v160Zm440 0h160v-160H620v160ZM180-180h160v-160H180v160Zm440 0h160v-160H620v160Z\"/>\n",
              "  </svg>\n",
              "    </button>\n",
              "\n",
              "  <style>\n",
              "    .colab-df-container {\n",
              "      display:flex;\n",
              "      gap: 12px;\n",
              "    }\n",
              "\n",
              "    .colab-df-convert {\n",
              "      background-color: #E8F0FE;\n",
              "      border: none;\n",
              "      border-radius: 50%;\n",
              "      cursor: pointer;\n",
              "      display: none;\n",
              "      fill: #1967D2;\n",
              "      height: 32px;\n",
              "      padding: 0 0 0 0;\n",
              "      width: 32px;\n",
              "    }\n",
              "\n",
              "    .colab-df-convert:hover {\n",
              "      background-color: #E2EBFA;\n",
              "      box-shadow: 0px 1px 2px rgba(60, 64, 67, 0.3), 0px 1px 3px 1px rgba(60, 64, 67, 0.15);\n",
              "      fill: #174EA6;\n",
              "    }\n",
              "\n",
              "    .colab-df-buttons div {\n",
              "      margin-bottom: 4px;\n",
              "    }\n",
              "\n",
              "    [theme=dark] .colab-df-convert {\n",
              "      background-color: #3B4455;\n",
              "      fill: #D2E3FC;\n",
              "    }\n",
              "\n",
              "    [theme=dark] .colab-df-convert:hover {\n",
              "      background-color: #434B5C;\n",
              "      box-shadow: 0px 1px 3px 1px rgba(0, 0, 0, 0.15);\n",
              "      filter: drop-shadow(0px 1px 2px rgba(0, 0, 0, 0.3));\n",
              "      fill: #FFFFFF;\n",
              "    }\n",
              "  </style>\n",
              "\n",
              "    <script>\n",
              "      const buttonEl =\n",
              "        document.querySelector('#df-9e35a99f-defd-4177-ad8b-72e1042a716a button.colab-df-convert');\n",
              "      buttonEl.style.display =\n",
              "        google.colab.kernel.accessAllowed ? 'block' : 'none';\n",
              "\n",
              "      async function convertToInteractive(key) {\n",
              "        const element = document.querySelector('#df-9e35a99f-defd-4177-ad8b-72e1042a716a');\n",
              "        const dataTable =\n",
              "          await google.colab.kernel.invokeFunction('convertToInteractive',\n",
              "                                                    [key], {});\n",
              "        if (!dataTable) return;\n",
              "\n",
              "        const docLinkHtml = 'Like what you see? Visit the ' +\n",
              "          '<a target=\"_blank\" href=https://colab.research.google.com/notebooks/data_table.ipynb>data table notebook</a>'\n",
              "          + ' to learn more about interactive tables.';\n",
              "        element.innerHTML = '';\n",
              "        dataTable['output_type'] = 'display_data';\n",
              "        await google.colab.output.renderOutput(dataTable, element);\n",
              "        const docLink = document.createElement('div');\n",
              "        docLink.innerHTML = docLinkHtml;\n",
              "        element.appendChild(docLink);\n",
              "      }\n",
              "    </script>\n",
              "  </div>\n",
              "\n",
              "\n",
              "<div id=\"df-6ab4b38d-b4f0-4bf2-a524-a7fd3404e083\">\n",
              "  <button class=\"colab-df-quickchart\" onclick=\"quickchart('df-6ab4b38d-b4f0-4bf2-a524-a7fd3404e083')\"\n",
              "            title=\"Suggest charts\"\n",
              "            style=\"display:none;\">\n",
              "\n",
              "<svg xmlns=\"http://www.w3.org/2000/svg\" height=\"24px\"viewBox=\"0 0 24 24\"\n",
              "     width=\"24px\">\n",
              "    <g>\n",
              "        <path d=\"M19 3H5c-1.1 0-2 .9-2 2v14c0 1.1.9 2 2 2h14c1.1 0 2-.9 2-2V5c0-1.1-.9-2-2-2zM9 17H7v-7h2v7zm4 0h-2V7h2v10zm4 0h-2v-4h2v4z\"/>\n",
              "    </g>\n",
              "</svg>\n",
              "  </button>\n",
              "\n",
              "<style>\n",
              "  .colab-df-quickchart {\n",
              "      --bg-color: #E8F0FE;\n",
              "      --fill-color: #1967D2;\n",
              "      --hover-bg-color: #E2EBFA;\n",
              "      --hover-fill-color: #174EA6;\n",
              "      --disabled-fill-color: #AAA;\n",
              "      --disabled-bg-color: #DDD;\n",
              "  }\n",
              "\n",
              "  [theme=dark] .colab-df-quickchart {\n",
              "      --bg-color: #3B4455;\n",
              "      --fill-color: #D2E3FC;\n",
              "      --hover-bg-color: #434B5C;\n",
              "      --hover-fill-color: #FFFFFF;\n",
              "      --disabled-bg-color: #3B4455;\n",
              "      --disabled-fill-color: #666;\n",
              "  }\n",
              "\n",
              "  .colab-df-quickchart {\n",
              "    background-color: var(--bg-color);\n",
              "    border: none;\n",
              "    border-radius: 50%;\n",
              "    cursor: pointer;\n",
              "    display: none;\n",
              "    fill: var(--fill-color);\n",
              "    height: 32px;\n",
              "    padding: 0;\n",
              "    width: 32px;\n",
              "  }\n",
              "\n",
              "  .colab-df-quickchart:hover {\n",
              "    background-color: var(--hover-bg-color);\n",
              "    box-shadow: 0 1px 2px rgba(60, 64, 67, 0.3), 0 1px 3px 1px rgba(60, 64, 67, 0.15);\n",
              "    fill: var(--button-hover-fill-color);\n",
              "  }\n",
              "\n",
              "  .colab-df-quickchart-complete:disabled,\n",
              "  .colab-df-quickchart-complete:disabled:hover {\n",
              "    background-color: var(--disabled-bg-color);\n",
              "    fill: var(--disabled-fill-color);\n",
              "    box-shadow: none;\n",
              "  }\n",
              "\n",
              "  .colab-df-spinner {\n",
              "    border: 2px solid var(--fill-color);\n",
              "    border-color: transparent;\n",
              "    border-bottom-color: var(--fill-color);\n",
              "    animation:\n",
              "      spin 1s steps(1) infinite;\n",
              "  }\n",
              "\n",
              "  @keyframes spin {\n",
              "    0% {\n",
              "      border-color: transparent;\n",
              "      border-bottom-color: var(--fill-color);\n",
              "      border-left-color: var(--fill-color);\n",
              "    }\n",
              "    20% {\n",
              "      border-color: transparent;\n",
              "      border-left-color: var(--fill-color);\n",
              "      border-top-color: var(--fill-color);\n",
              "    }\n",
              "    30% {\n",
              "      border-color: transparent;\n",
              "      border-left-color: var(--fill-color);\n",
              "      border-top-color: var(--fill-color);\n",
              "      border-right-color: var(--fill-color);\n",
              "    }\n",
              "    40% {\n",
              "      border-color: transparent;\n",
              "      border-right-color: var(--fill-color);\n",
              "      border-top-color: var(--fill-color);\n",
              "    }\n",
              "    60% {\n",
              "      border-color: transparent;\n",
              "      border-right-color: var(--fill-color);\n",
              "    }\n",
              "    80% {\n",
              "      border-color: transparent;\n",
              "      border-right-color: var(--fill-color);\n",
              "      border-bottom-color: var(--fill-color);\n",
              "    }\n",
              "    90% {\n",
              "      border-color: transparent;\n",
              "      border-bottom-color: var(--fill-color);\n",
              "    }\n",
              "  }\n",
              "</style>\n",
              "\n",
              "  <script>\n",
              "    async function quickchart(key) {\n",
              "      const quickchartButtonEl =\n",
              "        document.querySelector('#' + key + ' button');\n",
              "      quickchartButtonEl.disabled = true;  // To prevent multiple clicks.\n",
              "      quickchartButtonEl.classList.add('colab-df-spinner');\n",
              "      try {\n",
              "        const charts = await google.colab.kernel.invokeFunction(\n",
              "            'suggestCharts', [key], {});\n",
              "      } catch (error) {\n",
              "        console.error('Error during call to suggestCharts:', error);\n",
              "      }\n",
              "      quickchartButtonEl.classList.remove('colab-df-spinner');\n",
              "      quickchartButtonEl.classList.add('colab-df-quickchart-complete');\n",
              "    }\n",
              "    (() => {\n",
              "      let quickchartButtonEl =\n",
              "        document.querySelector('#df-6ab4b38d-b4f0-4bf2-a524-a7fd3404e083 button');\n",
              "      quickchartButtonEl.style.display =\n",
              "        google.colab.kernel.accessAllowed ? 'block' : 'none';\n",
              "    })();\n",
              "  </script>\n",
              "</div>\n",
              "\n",
              "    </div>\n",
              "  </div>\n"
            ],
            "application/vnd.google.colaboratory.intrinsic+json": {
              "type": "dataframe",
              "variable_name": "df",
              "summary": "{\n  \"name\": \"df\",\n  \"rows\": 5000,\n  \"fields\": [\n    {\n      \"column\": \"Unnamed: 0\",\n      \"properties\": {\n        \"dtype\": \"number\",\n        \"std\": 1443,\n        \"min\": 0,\n        \"max\": 4999,\n        \"num_unique_values\": 5000,\n        \"samples\": [\n          1501,\n          2586,\n          2653\n        ],\n        \"semantic_type\": \"\",\n        \"description\": \"\"\n      }\n    },\n    {\n      \"column\": \"company\",\n      \"properties\": {\n        \"dtype\": \"category\",\n        \"num_unique_values\": 3,\n        \"samples\": [\n          \"Glasses\",\n          \"Cheerper\",\n          \"Pear\"\n        ],\n        \"semantic_type\": \"\",\n        \"description\": \"\"\n      }\n    },\n    {\n      \"column\": \"department\",\n      \"properties\": {\n        \"dtype\": \"category\",\n        \"num_unique_values\": 6,\n        \"samples\": [\n          \"BigData\",\n          \"AI\",\n          \"Sales\"\n        ],\n        \"semantic_type\": \"\",\n        \"description\": \"\"\n      }\n    },\n    {\n      \"column\": \"employee_id\",\n      \"properties\": {\n        \"dtype\": \"number\",\n        \"std\": 22,\n        \"min\": 1,\n        \"max\": 80,\n        \"num_unique_values\": 80,\n        \"samples\": [\n          15,\n          16,\n          8\n        ],\n        \"semantic_type\": \"\",\n        \"description\": \"\"\n      }\n    },\n    {\n      \"column\": \"age\",\n      \"properties\": {\n        \"dtype\": \"number\",\n        \"std\": 6,\n        \"min\": 30,\n        \"max\": 49,\n        \"num_unique_values\": 20,\n        \"samples\": [\n          41,\n          47,\n          37\n        ],\n        \"semantic_type\": \"\",\n        \"description\": \"\"\n      }\n    },\n    {\n      \"column\": \"age_when_joined\",\n      \"properties\": {\n        \"dtype\": \"number\",\n        \"std\": 7,\n        \"min\": 22,\n        \"max\": 48,\n        \"num_unique_values\": 27,\n        \"samples\": [\n          24,\n          33,\n          35\n        ],\n        \"semantic_type\": \"\",\n        \"description\": \"\"\n      }\n    },\n    {\n      \"column\": \"years_in_the_company\",\n      \"properties\": {\n        \"dtype\": \"number\",\n        \"std\": 2,\n        \"min\": 1,\n        \"max\": 9,\n        \"num_unique_values\": 9,\n        \"samples\": [\n          6,\n          2,\n          5\n        ],\n        \"semantic_type\": \"\",\n        \"description\": \"\"\n      }\n    },\n    {\n      \"column\": \"salary\",\n      \"properties\": {\n        \"dtype\": \"number\",\n        \"std\": 28387.516845947,\n        \"min\": 40000.0,\n        \"max\": 153000.0,\n        \"num_unique_values\": 4635,\n        \"samples\": [\n          92079.22781,\n          56804.82955,\n          63694.65975\n        ],\n        \"semantic_type\": \"\",\n        \"description\": \"\"\n      }\n    },\n    {\n      \"column\": \"annual_bonus\",\n      \"properties\": {\n        \"dtype\": \"number\",\n        \"std\": 4412.142022870886,\n        \"min\": 9000.0,\n        \"max\": 24792.91,\n        \"num_unique_values\": 4290,\n        \"samples\": [\n          21160.37457,\n          21029.98245,\n          13760.51482\n        ],\n        \"semantic_type\": \"\",\n        \"description\": \"\"\n      }\n    },\n    {\n      \"column\": \"prior_years_experience\",\n      \"properties\": {\n        \"dtype\": \"number\",\n        \"std\": 1,\n        \"min\": 1,\n        \"max\": 5,\n        \"num_unique_values\": 5,\n        \"samples\": [\n          2,\n          5,\n          1\n        ],\n        \"semantic_type\": \"\",\n        \"description\": \"\"\n      }\n    },\n    {\n      \"column\": \"full_time\",\n      \"properties\": {\n        \"dtype\": \"number\",\n        \"std\": 0.3387595704737126,\n        \"min\": 0.0,\n        \"max\": 1.0,\n        \"num_unique_values\": 3414,\n        \"samples\": [\n          0.046312369,\n          0.582691825,\n          0.895526543\n        ],\n        \"semantic_type\": \"\",\n        \"description\": \"\"\n      }\n    },\n    {\n      \"column\": \"part_time\",\n      \"properties\": {\n        \"dtype\": \"number\",\n        \"std\": 0.3410846734698106,\n        \"min\": 0.0,\n        \"max\": 1.0,\n        \"num_unique_values\": 3437,\n        \"samples\": [\n          0.747946586,\n          0.189404947,\n          0.83648452\n        ],\n        \"semantic_type\": \"\",\n        \"description\": \"\"\n      }\n    },\n    {\n      \"column\": \"contractor\",\n      \"properties\": {\n        \"dtype\": \"number\",\n        \"std\": 0.33971431316870226,\n        \"min\": 0.0,\n        \"max\": 1.0,\n        \"num_unique_values\": 3412,\n        \"samples\": [\n          0.102369822,\n          0.109731005,\n          0.520275316\n        ],\n        \"semantic_type\": \"\",\n        \"description\": \"\"\n      }\n    }\n  ]\n}"
            }
          },
          "metadata": {},
          "execution_count": 3
        }
      ],
      "source": [
        "import pandas as pd # For data manipulation\n",
        "import sqlite3     # For database operations\n",
        "import matplotlib.pyplot as plt # For data visualization\n",
        "\n",
        " # Read a file\n",
        "df=pd.read_csv('/content/company_employee_details.csv')\n",
        "df.head()"
      ]
    },
    {
      "cell_type": "code",
      "source": [
        "# Connect to SQLite (creates a database file)\n",
        "conn=sqlite3.connect(\"company.db\")\n",
        "cursor=conn.cursor()\n",
        "\n",
        "# Create a Company details table\n",
        "cursor.execute('''\n",
        "CREATE TABLE IF NOT EXISTS company_details(\n",
        "id INTEGER PRIMARY KEY AUTOINCREMENT,\n",
        "company_name TEXT,\n",
        "department TEXT,\n",
        "salary INTEGER,\n",
        "anual_bonus INTEGER,\n",
        "employee_id INTEGER\n",
        ")\n",
        " ''')\n",
        "\n",
        "# Insert Company data into the table\n",
        "df.to_sql('company_details', conn, if_exists='replace', index=False)\n",
        "\n",
        "# Close the database connection\n",
        "conn.close()"
      ],
      "metadata": {
        "id": "daYTcjkxwwOq"
      },
      "execution_count": 4,
      "outputs": []
    },
    {
      "cell_type": "code",
      "source": [
        "#Total number of workers per company\n",
        "employee_quantity=df.groupby('company')['employee_id'].count().reset_index() #.reset_index() to get clear output with title.\n",
        "print(employee_quantity)\n"
      ],
      "metadata": {
        "colab": {
          "base_uri": "https://localhost:8080/"
        },
        "id": "g2-miKJguJFZ",
        "outputId": "12430213-1b6a-46b5-8bec-6e4234f0f768"
      },
      "execution_count": 6,
      "outputs": [
        {
          "output_type": "stream",
          "name": "stdout",
          "text": [
            "    company  employee_id\n",
            "0  Cheerper         1440\n",
            "1   Glasses         2369\n",
            "2      Pear         1191\n"
          ]
        }
      ]
    },
    {
      "cell_type": "code",
      "source": [
        "#Overall salary per company\n",
        "df['salary']=df['salary'].astype(int) # change datatype into INTEGER format\n",
        "company_wise_salary=df.groupby('company')['salary'].sum().reset_index()\n",
        "print(company_wise_salary)"
      ],
      "metadata": {
        "colab": {
          "base_uri": "https://localhost:8080/"
        },
        "id": "T9K-mM-mv0wu",
        "outputId": "0092e80f-d0fd-44a9-9398-aa0f97651f71"
      },
      "execution_count": 5,
      "outputs": [
        {
          "output_type": "stream",
          "name": "stdout",
          "text": [
            "    company     salary\n",
            "0  Cheerper  108729956\n",
            "1   Glasses  207941156\n",
            "2      Pear  119175444\n"
          ]
        }
      ]
    },
    {
      "cell_type": "code",
      "source": [
        "#Overall anual bonus per company\n",
        "df['annual_bonus']=df['annual_bonus'].astype(int) # change datatype into INTEGER format\n",
        "company_wise_bonus=df.groupby('company')['annual_bonus'].sum().reset_index()#sum() is caculate the sum of anual bonus\n",
        "print(company_wise_bonus)"
      ],
      "metadata": {
        "colab": {
          "base_uri": "https://localhost:8080/"
        },
        "id": "ujLsBiRtugb6",
        "outputId": "1eb0a612-802e-426b-ee00-cf72bd4af8e4"
      },
      "execution_count": 7,
      "outputs": [
        {
          "output_type": "stream",
          "name": "stdout",
          "text": [
            "    company  annual_bonus\n",
            "0  Cheerper      25556981\n",
            "1   Glasses      44237139\n",
            "2      Pear      23216527\n"
          ]
        }
      ]
    },
    {
      "cell_type": "code",
      "source": [
        "#Highest salary department in Glasses company\n",
        "df['salary']=df['salary'].astype(int)\n",
        "df_company=df[df['company']== 'Glasses'] # Select specfic company name\n",
        "df_max=df_company.sort_values(by='salary',ascending=False) # df.sort_values() function sort the salary in DESC order.\n",
        "heighst_salary=df_max.groupby('department')['salary'].sum().reset_index()\n",
        "maximum=heighst_salary.max() #Get a maximum salary department\n",
        "print(maximum)\n"
      ],
      "metadata": {
        "colab": {
          "base_uri": "https://localhost:8080/"
        },
        "id": "JrfMNZb3xr4J",
        "outputId": "2507cba6-737d-4fef-9206-f2d8d2fcd1bc"
      },
      "execution_count": 8,
      "outputs": [
        {
          "output_type": "stream",
          "name": "stdout",
          "text": [
            "department     Support\n",
            "salary        90513729\n",
            "dtype: object\n"
          ]
        }
      ]
    },
    {
      "cell_type": "code",
      "source": [
        "#Lowest workers count per company\n",
        "employee_quantity=df.groupby('company')['employee_id'].count().reset_index()\n",
        "minium_employee=employee_quantity.min() # Get a lowest employee count per company\n",
        "print(minium_employee)\n"
      ],
      "metadata": {
        "colab": {
          "base_uri": "https://localhost:8080/"
        },
        "id": "3I8_j65JD6-L",
        "outputId": "5697e581-35eb-4555-9708-22e67f4a7f07"
      },
      "execution_count": 9,
      "outputs": [
        {
          "output_type": "stream",
          "name": "stdout",
          "text": [
            "company        Cheerper\n",
            "employee_id        1191\n",
            "dtype: object\n"
          ]
        }
      ]
    },
    {
      "cell_type": "code",
      "source": [
        "#Calculate employee count for selective department\n",
        "employye_count=df[df[\"department\"].isin([\"BigData\", \"Design\"])] #applying filter to get specific dept\n",
        "count_emp=employye_count.groupby('department')['employee_id'].count().reset_index()\n",
        "print(count_emp)\n"
      ],
      "metadata": {
        "colab": {
          "base_uri": "https://localhost:8080/"
        },
        "id": "7_2HDf17NfYu",
        "outputId": "93477c5d-794a-4017-bb54-06c8c0a6ec70"
      },
      "execution_count": 11,
      "outputs": [
        {
          "output_type": "stream",
          "name": "stdout",
          "text": [
            "  department  employee_id\n",
            "0    BigData          797\n",
            "1     Design          720\n"
          ]
        }
      ]
    },
    {
      "cell_type": "code",
      "source": [
        "# Show the data lable of category values\n",
        "for i in range(len(employee_quantity['company'])):\n",
        "    plt.text(i, employee_quantity['employee_id'][i], employee_quantity['employee_id'][i], ha='center', va='bottom')\n",
        "\n",
        "#plot employee count in company wise\n",
        "plt.bar(employee_quantity['company'], employee_quantity['employee_id'])\n",
        "plt.xlabel('Company')\n",
        "plt.ylabel('Employee Count')\n",
        "plt.title('Employee Count in Company Wise')\n",
        "plt.show()"
      ],
      "metadata": {
        "colab": {
          "base_uri": "https://localhost:8080/",
          "height": 472
        },
        "id": "yQBuNd9_Vy4C",
        "outputId": "ee6ee8a6-fd44-4eee-c6bf-25251891f9e0"
      },
      "execution_count": 12,
      "outputs": [
        {
          "output_type": "display_data",
          "data": {
            "text/plain": [
              "<Figure size 640x480 with 1 Axes>"
            ],
            "image/png": "[encoded data removed]"
          },
          "metadata": {}
        }
      ]
    },
    {
      "cell_type": "code",
      "source": [
        "# Show the data lable of anual bonus\n",
        "\n",
        "for i in range(len(company_wise_bonus['company'])):\n",
        "    plt.text(i, company_wise_bonus['annual_bonus'][i], company_wise_bonus['annual_bonus'][i], ha='center', va='bottom')\n",
        "\n",
        "\n",
        "#plot anual bonus in company wise\n",
        "plt.bar(company_wise_bonus['company'], company_wise_bonus['annual_bonus'])\n",
        "plt.xlabel('Company')\n",
        "plt.ylabel('Annual Bonus')\n",
        "plt.title('Annual Bonus in Company Wise')\n",
        "plt.show()\n",
        "\n"
      ],
      "metadata": {
        "colab": {
          "base_uri": "https://localhost:8080/",
          "height": 472
        },
        "id": "zwLWm8_6XOlS",
        "outputId": "88a328ee-f569-47c9-9540-b6aff38e7795"
      },
      "execution_count": 13,
      "outputs": [
        {
          "output_type": "display_data",
          "data": {
            "text/plain": [
              "<Figure size 640x480 with 1 Axes>"
            ],
            "image/png": "[encoded data removed]"
          },
          "metadata": {}
        }
      ]
    },
    {
      "cell_type": "code",
      "source": [
        "for i in range(len(company_wise_salary['company'])):\n",
        "    plt.text(i, company_wise_salary['salary'][i], company_wise_salary['salary'][i], ha='center', va='bottom')\n",
        "\n",
        "#plot salary in company wise\n",
        "plt.bar(company_wise_salary['company'], company_wise_salary['salary'])\n",
        "plt.xlabel('Company')\n",
        "plt.ylabel('Salary')\n",
        "plt.title('Salary in Company Wise')\n",
        "plt.show()\n"
      ],
      "metadata": {
        "colab": {
          "base_uri": "https://localhost:8080/",
          "height": 472
        },
        "id": "IuNgCaDsjnnc",
        "outputId": "e5f6c615-0826-4ea1-96e5-90bb3f308872"
      },
      "execution_count": 14,
      "outputs": [
        {
          "output_type": "display_data",
          "data": {
            "text/plain": [
              "<Figure size 640x480 with 1 Axes>"
            ],
            "image/png": "[encoded data removed]"
          },
          "metadata": {}
        }
      ]
    },
    {
      "cell_type": "code",
      "source": [
        "import pandas as pd\n",
        "import matplotlib.pyplot as plt\n",
        "import ipywidgets as widgets #build interactive UI elements like sliders, buttons, dropdowns, and text inputs\n",
        "from IPython.display import display, clear_output #control the output display(clear output is update the currect output and clear the ols output)\n",
        "\n",
        "# Assuming df is already loaded as in your provided code\n",
        "\n",
        "# Create interactive widgets\n",
        "company_filter = widgets.Dropdown(\n",
        "    options=df['company'].unique().tolist(),\n",
        "    value=df['company'].unique().tolist()[0],\n",
        "    description='Company:'\n",
        "\n",
        ")\n",
        "\n",
        "exp_filter = widgets.Dropdown(\n",
        "    options=df['years_in_the_company'].unique().tolist(),\n",
        "    value=df['years_in_the_company'].unique().tolist()[0],\n",
        "    description='years_in_the_company:'\n",
        ")\n",
        "\n",
        "\n",
        "department_filter = widgets.SelectMultiple(\n",
        "    options=df['department'].unique().tolist(),\n",
        "    value=df['department'].unique().tolist(),\n",
        "    description='Department:'\n",
        ")\n",
        "\n",
        "salary_slider = widgets.IntRangeSlider(\n",
        "    value=[df['salary'].min(), df['salary'].max()],\n",
        "    min=df['salary'].min(),\n",
        "    max=df['salary'].max(),\n",
        "    step=1000,\n",
        "    description='Salary Range:'\n",
        ")\n",
        "\n",
        "\n",
        "def update_plots(change):\n",
        "    selected_company = company_filter.value\n",
        "    selected_years = exp_filter.value\n",
        "    selected_departments = department_filter.value\n",
        "    min_salary, max_salary = salary_slider.value\n",
        "\n",
        "    filtered_df = df[df['company'] == selected_company]\n",
        "    filtered_df = filtered_df[filtered_df['years_in_the_company'] == selected_years]\n",
        "    filtered_df = filtered_df[filtered_df['department'].isin(selected_departments)]\n",
        "    filtered_df = filtered_df[(filtered_df['salary'] >= min_salary) & (filtered_df['salary'] <= max_salary)]\n",
        "\n",
        "    clear_output(wait=True)\n",
        "    display(company_filter,exp_filter, department_filter, salary_slider)\n",
        "\n",
        "    plt.figure(figsize=(15, 5))  # Adjust figure size for better layout\n",
        "\n",
        "    # Plot 1: Employee Count\n",
        "    employee_quantity = filtered_df.groupby('department')['employee_id'].count().reset_index()\n",
        "    plt.subplot(1,3,1)  # 1 row, 3 columns, first subplot\n",
        "    plt.bar(employee_quantity['department'], employee_quantity['employee_id'])\n",
        "    plt.xlabel('Department')\n",
        "    plt.ylabel('Employee Count')\n",
        "    plt.title(f'Employee Count in {selected_company}')\n",
        "    plt.xticks(rotation=45, ha='right')\n",
        "\n",
        "# Plot 2: Average Salary\n",
        "    avg_salary = filtered_df.groupby('department')['salary'].mean().reset_index()\n",
        "    plt.subplot(1, 3, 2)  # 1 row, 3 columns, second subplot\n",
        "    plt.bar(avg_salary['department'], avg_salary['salary'])\n",
        "    plt.xlabel('Department')\n",
        "    plt.ylabel('Average Salary')\n",
        "    plt.title(f'Average Salary in {selected_company}')\n",
        "    plt.xticks(rotation=45, ha='right')\n",
        "\n",
        " # Plot 3: Bonus distribution\n",
        "    bonus_sum = filtered_df.groupby('department')['annual_bonus'].sum().reset_index()\n",
        "    plt.subplot(1, 3, 3)  # 1 row, 3 columns, second subplot\n",
        "    plt.pie(bonus_sum['annual_bonus'], labels=bonus_sum['department'], autopct='%1.1f%%')\n",
        "    plt.title(f'Bonus Distribution in {selected_company}')\n",
        "\n",
        "plt.tight_layout()  # Adjust subplot parameters for a tight layout\n",
        "plt.show()\n",
        "\n",
        "# Observe changes in widgets\n",
        "company_filter.observe(update_plots, names='value')\n",
        "exp_filter.observe(update_plots, names='value')\n",
        "department_filter.observe(update_plots, names='value')\n",
        "salary_slider.observe(update_plots, names='value')\n",
        "\n",
        "# Initial display\n",
        "display(company_filter, exp_filter,department_filter, salary_slider)\n",
        "update_plots(None) # Initial plot rendering"
      ],
      "metadata": {
        "colab": {
          "base_uri": "https://localhost:8080/",
          "height": 662,
          "referenced_widgets": [
            "4eee1733b6974d60ac5955d1c70b4048",
            "3210c51a884142ef95677ed37fc904e2",
            "ea7392a115f54fe78b961b83f3e8f5ce",
            "40d7c7c905ba4b4aba1e464227a9442a",
            "78dce92e802d442095eb7bbe3e8e7cd1",
            "35500d5c287840ffac2d5e7d0e55e65c",
            "a5fa4612abdb46f5973b227bb284a0f3",
            "216da9a239d6404580112c8ac98e5a39",
            "7e896343888341b3abef186365525425",
            "a96682b0d7fc4723886587cfcbba412c",
            "9d3a035740d049de903a535dbba2bf0a",
            "b596257f2897460d8e200aefb5e15e24"
          ]
        },
        "id": "vuJeg7meoLxu",
        "outputId": "e757ea5a-c372-432a-b8b9-e73483a30f37"
      },
      "execution_count": 17,
      "outputs": [
        {
          "output_type": "display_data",
          "data": {
            "text/plain": [
              "Dropdown(description='Company:', options=('Glasses', 'Cheerper', 'Pear'), value='Glasses')"
            ],
            "application/vnd.jupyter.widget-view+json": {
              "version_major": 2,
              "version_minor": 0,
              "model_id": "4eee1733b6974d60ac5955d1c70b4048"
            }
          },
          "metadata": {}
        },
        {
          "output_type": "display_data",
          "data": {
            "text/plain": [
              "Dropdown(description='years_in_the_company:', options=(3, 2, 1, 7, 9, 5, 4, 6, 8), value=3)"
            ],
            "application/vnd.jupyter.widget-view+json": {
              "version_major": 2,
              "version_minor": 0,
              "model_id": "40d7c7c905ba4b4aba1e464227a9442a"
            }
          },
          "metadata": {}
        },
        {
          "output_type": "display_data",
          "data": {
            "text/plain": [
              "SelectMultiple(description='Department:', index=(0, 1, 2, 3, 4, 5), options=('BigData', 'AI', 'Support', 'Desi…"
            ],
            "application/vnd.jupyter.widget-view+json": {
              "version_major": 2,
              "version_minor": 0,
              "model_id": "a5fa4612abdb46f5973b227bb284a0f3"
            }
          },
          "metadata": {}
        },
        {
          "output_type": "display_data",
          "data": {
            "text/plain": [
              "IntRangeSlider(value=(40000, 153000), description='Salary Range:', max=153000, min=40000, step=1000)"
            ],
            "application/vnd.jupyter.widget-view+json": {
              "version_major": 2,
              "version_minor": 0,
              "model_id": "a96682b0d7fc4723886587cfcbba412c"
            }
          },
          "metadata": {}
        },
        {
          "output_type": "display_data",
          "data": {
            "text/plain": [
              "<Figure size 1500x500 with 3 Axes>"
            ],
            "image/png": "[encoded data removed]"
          },
          "metadata": {}
        }
      ]
    }
  ]
}