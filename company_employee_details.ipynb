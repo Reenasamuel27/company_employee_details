{
  "nbformat": 4,
  "nbformat_minor": 0,
  "metadata": {
    "colab": {
      "provenance": []
    },
    "kernelspec": {
      "name": "python3",
      "display_name": "Python 3"
    },
    "language_info": {
      "name": "python"
    }
  },
  "cells": [
    {
      "cell_type": "code",
      "execution_count": 390,
      "metadata": {
        "colab": {
          "base_uri": "https://localhost:8080/",
          "height": 261
        },
        "id": "HX5tqALKuEkr",
        "outputId": "676592d8-ccc3-4463-9a94-cbdff19eabac"
      },
      "outputs": [
        {
          "output_type": "execute_result",
          "data": {
            "text/plain": [
              "   Unnamed: 0   company     department  employee_id  age  age_when_joined  \\\n",
              "0           0   Glasses        BigData           16   41               38   \n",
              "1           1   Glasses             AI           56   44               42   \n",
              "2           2  Cheerper        Support           59   41               40   \n",
              "3           3   Glasses         Design           40   39               32   \n",
              "4           4   Glasses  Search Engine           47   30               22   \n",
              "\n",
              "   years_in_the_company        salary  annual_bonus  prior_years_experience  \\\n",
              "0                     3   68074.97135   17664.10410                       3   \n",
              "1                     2   49092.14746   21551.14108                       2   \n",
              "2                     1   40000.00000   23698.87885                       2   \n",
              "3                     7  108192.46550   21570.92966                       1   \n",
              "4                     9   71291.19113   21565.50572                       2   \n",
              "\n",
              "   full_time  part_time  contractor  \n",
              "0   0.000000   0.000000    1.000000  \n",
              "1   0.000000   0.184991    1.000000  \n",
              "2   0.000000   0.919887    0.662706  \n",
              "3   0.930396   0.546206    0.000000  \n",
              "4   0.525432   0.938412    0.000000  "
            ],
            "text/html": [
              "\n",
              "  <div id=\"df-659b178d-d207-4ea5-81ad-729baee53e3c\" class=\"colab-df-container\">\n",
              "    <div>\n",
              "<style scoped>\n",
              "    .dataframe tbody tr th:only-of-type {\n",
              "        vertical-align: middle;\n",
              "    }\n",
              "\n",
              "    .dataframe tbody tr th {\n",
              "        vertical-align: top;\n",
              "    }\n",
              "\n",
              "    .dataframe thead th {\n",
              "        text-align: right;\n",
              "    }\n",
              "</style>\n",
              "<table border=\"1\" class=\"dataframe\">\n",
              "  <thead>\n",
              "    <tr style=\"text-align: right;\">\n",
              "      <th></th>\n",
              "      <th>Unnamed: 0</th>\n",
              "      <th>company</th>\n",
              "      <th>department</th>\n",
              "      <th>employee_id</th>\n",
              "      <th>age</th>\n",
              "      <th>age_when_joined</th>\n",
              "      <th>years_in_the_company</th>\n",
              "      <th>salary</th>\n",
              "      <th>annual_bonus</th>\n",
              "      <th>prior_years_experience</th>\n",
              "      <th>full_time</th>\n",
              "      <th>part_time</th>\n",
              "      <th>contractor</th>\n",
              "    </tr>\n",
              "  </thead>\n",
              "  <tbody>\n",
              "    <tr>\n",
              "      <th>0</th>\n",
              "      <td>0</td>\n",
              "      <td>Glasses</td>\n",
              "      <td>BigData</td>\n",
              "      <td>16</td>\n",
              "      <td>41</td>\n",
              "      <td>38</td>\n",
              "      <td>3</td>\n",
              "      <td>68074.97135</td>\n",
              "      <td>17664.10410</td>\n",
              "      <td>3</td>\n",
              "      <td>0.000000</td>\n",
              "      <td>0.000000</td>\n",
              "      <td>1.000000</td>\n",
              "    </tr>\n",
              "    <tr>\n",
              "      <th>1</th>\n",
              "      <td>1</td>\n",
              "      <td>Glasses</td>\n",
              "      <td>AI</td>\n",
              "      <td>56</td>\n",
              "      <td>44</td>\n",
              "      <td>42</td>\n",
              "      <td>2</td>\n",
              "      <td>49092.14746</td>\n",
              "      <td>21551.14108</td>\n",
              "      <td>2</td>\n",
              "      <td>0.000000</td>\n",
              "      <td>0.184991</td>\n",
              "      <td>1.000000</td>\n",
              "    </tr>\n",
              "    <tr>\n",
              "      <th>2</th>\n",
              "      <td>2</td>\n",
              "      <td>Cheerper</td>\n",
              "      <td>Support</td>\n",
              "      <td>59</td>\n",
              "      <td>41</td>\n",
              "      <td>40</td>\n",
              "      <td>1</td>\n",
              "      <td>40000.00000</td>\n",
              "      <td>23698.87885</td>\n",
              "      <td>2</td>\n",
              "      <td>0.000000</td>\n",
              "      <td>0.919887</td>\n",
              "      <td>0.662706</td>\n",
              "    </tr>\n",
              "    <tr>\n",
              "      <th>3</th>\n",
              "      <td>3</td>\n",
              "      <td>Glasses</td>\n",
              "      <td>Design</td>\n",
              "      <td>40</td>\n",
              "      <td>39</td>\n",
              "      <td>32</td>\n",
              "      <td>7</td>\n",
              "      <td>108192.46550</td>\n",
              "      <td>21570.92966</td>\n",
              "      <td>1</td>\n",
              "      <td>0.930396</td>\n",
              "      <td>0.546206</td>\n",
              "      <td>0.000000</td>\n",
              "    </tr>\n",
              "    <tr>\n",
              "      <th>4</th>\n",
              "      <td>4</td>\n",
              "      <td>Glasses</td>\n",
              "      <td>Search Engine</td>\n",
              "      <td>47</td>\n",
              "      <td>30</td>\n",
              "      <td>22</td>\n",
              "      <td>9</td>\n",
              "      <td>71291.19113</td>\n",
              "      <td>21565.50572</td>\n",
              "      <td>2</td>\n",
              "      <td>0.525432</td>\n",
              "      <td>0.938412</td>\n",
              "      <td>0.000000</td>\n",
              "    </tr>\n",
              "  </tbody>\n",
              "</table>\n",
              "</div>\n",
              "    <div class=\"colab-df-buttons\">\n",
              "\n",
              "  <div class=\"colab-df-container\">\n",
              "    <button class=\"colab-df-convert\" onclick=\"convertToInteractive('df-659b178d-d207-4ea5-81ad-729baee53e3c')\"\n",
              "            title=\"Convert this dataframe to an interactive table.\"\n",
              "            style=\"display:none;\">\n",
              "\n",
              "  <svg xmlns=\"http://www.w3.org/2000/svg\" height=\"24px\" viewBox=\"0 -960 960 960\">\n",
              "    <path d=\"M120-120v-720h720v720H120Zm60-500h600v-160H180v160Zm220 220h160v-160H400v160Zm0 220h160v-160H400v160ZM180-400h160v-160H180v160Zm440 0h160v-160H620v160ZM180-180h160v-160H180v160Zm440 0h160v-160H620v160Z\"/>\n",
              "  </svg>\n",
              "    </button>\n",
              "\n",
              "  <style>\n",
              "    .colab-df-container {\n",
              "      display:flex;\n",
              "      gap: 12px;\n",
              "    }\n",
              "\n",
              "    .colab-df-convert {\n",
              "      background-color: #E8F0FE;\n",
              "      border: none;\n",
              "      border-radius: 50%;\n",
              "      cursor: pointer;\n",
              "      display: none;\n",
              "      fill: #1967D2;\n",
              "      height: 32px;\n",
              "      padding: 0 0 0 0;\n",
              "      width: 32px;\n",
              "    }\n",
              "\n",
              "    .colab-df-convert:hover {\n",
              "      background-color: #E2EBFA;\n",
              "      box-shadow: 0px 1px 2px rgba(60, 64, 67, 0.3), 0px 1px 3px 1px rgba(60, 64, 67, 0.15);\n",
              "      fill: #174EA6;\n",
              "    }\n",
              "\n",
              "    .colab-df-buttons div {\n",
              "      margin-bottom: 4px;\n",
              "    }\n",
              "\n",
              "    [theme=dark] .colab-df-convert {\n",
              "      background-color: #3B4455;\n",
              "      fill: #D2E3FC;\n",
              "    }\n",
              "\n",
              "    [theme=dark] .colab-df-convert:hover {\n",
              "      background-color: #434B5C;\n",
              "      box-shadow: 0px 1px 3px 1px rgba(0, 0, 0, 0.15);\n",
              "      filter: drop-shadow(0px 1px 2px rgba(0, 0, 0, 0.3));\n",
              "      fill: #FFFFFF;\n",
              "    }\n",
              "  </style>\n",
              "\n",
              "    <script>\n",
              "      const buttonEl =\n",
              "        document.querySelector('#df-659b178d-d207-4ea5-81ad-729baee53e3c button.colab-df-convert');\n",
              "      buttonEl.style.display =\n",
              "        google.colab.kernel.accessAllowed ? 'block' : 'none';\n",
              "\n",
              "      async function convertToInteractive(key) {\n",
              "        const element = document.querySelector('#df-659b178d-d207-4ea5-81ad-729baee53e3c');\n",
              "        const dataTable =\n",
              "          await google.colab.kernel.invokeFunction('convertToInteractive',\n",
              "                                                    [key], {});\n",
              "        if (!dataTable) return;\n",
              "\n",
              "        const docLinkHtml = 'Like what you see? Visit the ' +\n",
              "          '<a target=\"_blank\" href=https://colab.research.google.com/notebooks/data_table.ipynb>data table notebook</a>'\n",
              "          + ' to learn more about interactive tables.';\n",
              "        element.innerHTML = '';\n",
              "        dataTable['output_type'] = 'display_data';\n",
              "        await google.colab.output.renderOutput(dataTable, element);\n",
              "        const docLink = document.createElement('div');\n",
              "        docLink.innerHTML = docLinkHtml;\n",
              "        element.appendChild(docLink);\n",
              "      }\n",
              "    </script>\n",
              "  </div>\n",
              "\n",
              "\n",
              "<div id=\"df-cca06253-ce50-426f-b87d-1800bce3f59c\">\n",
              "  <button class=\"colab-df-quickchart\" onclick=\"quickchart('df-cca06253-ce50-426f-b87d-1800bce3f59c')\"\n",
              "            title=\"Suggest charts\"\n",
              "            style=\"display:none;\">\n",
              "\n",
              "<svg xmlns=\"http://www.w3.org/2000/svg\" height=\"24px\"viewBox=\"0 0 24 24\"\n",
              "     width=\"24px\">\n",
              "    <g>\n",
              "        <path d=\"M19 3H5c-1.1 0-2 .9-2 2v14c0 1.1.9 2 2 2h14c1.1 0 2-.9 2-2V5c0-1.1-.9-2-2-2zM9 17H7v-7h2v7zm4 0h-2V7h2v10zm4 0h-2v-4h2v4z\"/>\n",
              "    </g>\n",
              "</svg>\n",
              "  </button>\n",
              "\n",
              "<style>\n",
              "  .colab-df-quickchart {\n",
              "      --bg-color: #E8F0FE;\n",
              "      --fill-color: #1967D2;\n",
              "      --hover-bg-color: #E2EBFA;\n",
              "      --hover-fill-color: #174EA6;\n",
              "      --disabled-fill-color: #AAA;\n",
              "      --disabled-bg-color: #DDD;\n",
              "  }\n",
              "\n",
              "  [theme=dark] .colab-df-quickchart {\n",
              "      --bg-color: #3B4455;\n",
              "      --fill-color: #D2E3FC;\n",
              "      --hover-bg-color: #434B5C;\n",
              "      --hover-fill-color: #FFFFFF;\n",
              "      --disabled-bg-color: #3B4455;\n",
              "      --disabled-fill-color: #666;\n",
              "  }\n",
              "\n",
              "  .colab-df-quickchart {\n",
              "    background-color: var(--bg-color);\n",
              "    border: none;\n",
              "    border-radius: 50%;\n",
              "    cursor: pointer;\n",
              "    display: none;\n",
              "    fill: var(--fill-color);\n",
              "    height: 32px;\n",
              "    padding: 0;\n",
              "    width: 32px;\n",
              "  }\n",
              "\n",
              "  .colab-df-quickchart:hover {\n",
              "    background-color: var(--hover-bg-color);\n",
              "    box-shadow: 0 1px 2px rgba(60, 64, 67, 0.3), 0 1px 3px 1px rgba(60, 64, 67, 0.15);\n",
              "    fill: var(--button-hover-fill-color);\n",
              "  }\n",
              "\n",
              "  .colab-df-quickchart-complete:disabled,\n",
              "  .colab-df-quickchart-complete:disabled:hover {\n",
              "    background-color: var(--disabled-bg-color);\n",
              "    fill: var(--disabled-fill-color);\n",
              "    box-shadow: none;\n",
              "  }\n",
              "\n",
              "  .colab-df-spinner {\n",
              "    border: 2px solid var(--fill-color);\n",
              "    border-color: transparent;\n",
              "    border-bottom-color: var(--fill-color);\n",
              "    animation:\n",
              "      spin 1s steps(1) infinite;\n",
              "  }\n",
              "\n",
              "  @keyframes spin {\n",
              "    0% {\n",
              "      border-color: transparent;\n",
              "      border-bottom-color: var(--fill-color);\n",
              "      border-left-color: var(--fill-color);\n",
              "    }\n",
              "    20% {\n",
              "      border-color: transparent;\n",
              "      border-left-color: var(--fill-color);\n",
              "      border-top-color: var(--fill-color);\n",
              "    }\n",
              "    30% {\n",
              "      border-color: transparent;\n",
              "      border-left-color: var(--fill-color);\n",
              "      border-top-color: var(--fill-color);\n",
              "      border-right-color: var(--fill-color);\n",
              "    }\n",
              "    40% {\n",
              "      border-color: transparent;\n",
              "      border-right-color: var(--fill-color);\n",
              "      border-top-color: var(--fill-color);\n",
              "    }\n",
              "    60% {\n",
              "      border-color: transparent;\n",
              "      border-right-color: var(--fill-color);\n",
              "    }\n",
              "    80% {\n",
              "      border-color: transparent;\n",
              "      border-right-color: var(--fill-color);\n",
              "      border-bottom-color: var(--fill-color);\n",
              "    }\n",
              "    90% {\n",
              "      border-color: transparent;\n",
              "      border-bottom-color: var(--fill-color);\n",
              "    }\n",
              "  }\n",
              "</style>\n",
              "\n",
              "  <script>\n",
              "    async function quickchart(key) {\n",
              "      const quickchartButtonEl =\n",
              "        document.querySelector('#' + key + ' button');\n",
              "      quickchartButtonEl.disabled = true;  // To prevent multiple clicks.\n",
              "      quickchartButtonEl.classList.add('colab-df-spinner');\n",
              "      try {\n",
              "        const charts = await google.colab.kernel.invokeFunction(\n",
              "            'suggestCharts', [key], {});\n",
              "      } catch (error) {\n",
              "        console.error('Error during call to suggestCharts:', error);\n",
              "      }\n",
              "      quickchartButtonEl.classList.remove('colab-df-spinner');\n",
              "      quickchartButtonEl.classList.add('colab-df-quickchart-complete');\n",
              "    }\n",
              "    (() => {\n",
              "      let quickchartButtonEl =\n",
              "        document.querySelector('#df-cca06253-ce50-426f-b87d-1800bce3f59c button');\n",
              "      quickchartButtonEl.style.display =\n",
              "        google.colab.kernel.accessAllowed ? 'block' : 'none';\n",
              "    })();\n",
              "  </script>\n",
              "</div>\n",
              "\n",
              "    </div>\n",
              "  </div>\n"
            ],
            "application/vnd.google.colaboratory.intrinsic+json": {
              "type": "dataframe",
              "variable_name": "df",
              "summary": "{\n  \"name\": \"df\",\n  \"rows\": 5000,\n  \"fields\": [\n    {\n      \"column\": \"Unnamed: 0\",\n      \"properties\": {\n        \"dtype\": \"number\",\n        \"std\": 1443,\n        \"min\": 0,\n        \"max\": 4999,\n        \"num_unique_values\": 5000,\n        \"samples\": [\n          1501,\n          2586,\n          2653\n        ],\n        \"semantic_type\": \"\",\n        \"description\": \"\"\n      }\n    },\n    {\n      \"column\": \"company\",\n      \"properties\": {\n        \"dtype\": \"category\",\n        \"num_unique_values\": 3,\n        \"samples\": [\n          \"Glasses\",\n          \"Cheerper\",\n          \"Pear\"\n        ],\n        \"semantic_type\": \"\",\n        \"description\": \"\"\n      }\n    },\n    {\n      \"column\": \"department\",\n      \"properties\": {\n        \"dtype\": \"category\",\n        \"num_unique_values\": 6,\n        \"samples\": [\n          \"BigData\",\n          \"AI\",\n          \"Sales\"\n        ],\n        \"semantic_type\": \"\",\n        \"description\": \"\"\n      }\n    },\n    {\n      \"column\": \"employee_id\",\n      \"properties\": {\n        \"dtype\": \"number\",\n        \"std\": 22,\n        \"min\": 1,\n        \"max\": 80,\n        \"num_unique_values\": 80,\n        \"samples\": [\n          15,\n          16,\n          8\n        ],\n        \"semantic_type\": \"\",\n        \"description\": \"\"\n      }\n    },\n    {\n      \"column\": \"age\",\n      \"properties\": {\n        \"dtype\": \"number\",\n        \"std\": 6,\n        \"min\": 30,\n        \"max\": 49,\n        \"num_unique_values\": 20,\n        \"samples\": [\n          41,\n          47,\n          37\n        ],\n        \"semantic_type\": \"\",\n        \"description\": \"\"\n      }\n    },\n    {\n      \"column\": \"age_when_joined\",\n      \"properties\": {\n        \"dtype\": \"number\",\n        \"std\": 7,\n        \"min\": 22,\n        \"max\": 48,\n        \"num_unique_values\": 27,\n        \"samples\": [\n          24,\n          33,\n          35\n        ],\n        \"semantic_type\": \"\",\n        \"description\": \"\"\n      }\n    },\n    {\n      \"column\": \"years_in_the_company\",\n      \"properties\": {\n        \"dtype\": \"number\",\n        \"std\": 2,\n        \"min\": 1,\n        \"max\": 9,\n        \"num_unique_values\": 9,\n        \"samples\": [\n          6,\n          2,\n          5\n        ],\n        \"semantic_type\": \"\",\n        \"description\": \"\"\n      }\n    },\n    {\n      \"column\": \"salary\",\n      \"properties\": {\n        \"dtype\": \"number\",\n        \"std\": 28387.516845947,\n        \"min\": 40000.0,\n        \"max\": 153000.0,\n        \"num_unique_values\": 4635,\n        \"samples\": [\n          92079.22781,\n          56804.82955,\n          63694.65975\n        ],\n        \"semantic_type\": \"\",\n        \"description\": \"\"\n      }\n    },\n    {\n      \"column\": \"annual_bonus\",\n      \"properties\": {\n        \"dtype\": \"number\",\n        \"std\": 4412.142022870886,\n        \"min\": 9000.0,\n        \"max\": 24792.91,\n        \"num_unique_values\": 4290,\n        \"samples\": [\n          21160.37457,\n          21029.98245,\n          13760.51482\n        ],\n        \"semantic_type\": \"\",\n        \"description\": \"\"\n      }\n    },\n    {\n      \"column\": \"prior_years_experience\",\n      \"properties\": {\n        \"dtype\": \"number\",\n        \"std\": 1,\n        \"min\": 1,\n        \"max\": 5,\n        \"num_unique_values\": 5,\n        \"samples\": [\n          2,\n          5,\n          1\n        ],\n        \"semantic_type\": \"\",\n        \"description\": \"\"\n      }\n    },\n    {\n      \"column\": \"full_time\",\n      \"properties\": {\n        \"dtype\": \"number\",\n        \"std\": 0.3387595704737126,\n        \"min\": 0.0,\n        \"max\": 1.0,\n        \"num_unique_values\": 3414,\n        \"samples\": [\n          0.046312369,\n          0.582691825,\n          0.895526543\n        ],\n        \"semantic_type\": \"\",\n        \"description\": \"\"\n      }\n    },\n    {\n      \"column\": \"part_time\",\n      \"properties\": {\n        \"dtype\": \"number\",\n        \"std\": 0.3410846734698106,\n        \"min\": 0.0,\n        \"max\": 1.0,\n        \"num_unique_values\": 3437,\n        \"samples\": [\n          0.747946586,\n          0.189404947,\n          0.83648452\n        ],\n        \"semantic_type\": \"\",\n        \"description\": \"\"\n      }\n    },\n    {\n      \"column\": \"contractor\",\n      \"properties\": {\n        \"dtype\": \"number\",\n        \"std\": 0.33971431316870226,\n        \"min\": 0.0,\n        \"max\": 1.0,\n        \"num_unique_values\": 3412,\n        \"samples\": [\n          0.102369822,\n          0.109731005,\n          0.520275316\n        ],\n        \"semantic_type\": \"\",\n        \"description\": \"\"\n      }\n    }\n  ]\n}"
            }
          },
          "metadata": {},
          "execution_count": 390
        }
      ],
      "source": [
        "import pandas as pd # For data manipulation\n",
        "import sqlite3     # For database operations\n",
        "import matplotlib.pyplot as plt # For data visualization\n",
        "\n",
        " # Read a file\n",
        "df=pd.read_csv('/content/company_employee_details.csv')\n",
        "df.head()"
      ]
    },
    {
      "cell_type": "code",
      "source": [
        "# Connect to SQLite (creates a database file)\n",
        "conn=sqlite3.connect(\"company.db\")\n",
        "cursor=conn.cursor()\n",
        "\n",
        "# Create a Company details table\n",
        "cursor.execute('''\n",
        "CREATE TABLE IF NOT EXISTS company_details(\n",
        "id INTEGER PRIMARY KEY AUTOINCREMENT,\n",
        "company_name TEXT,\n",
        "department TEXT,\n",
        "salary INTEGER,\n",
        "anual_bonus INTEGER,\n",
        "employee_id INTEGER\n",
        ")\n",
        " ''')\n",
        "\n",
        "# Insert Company data into the table\n",
        "df.to_sql('company_details', conn, if_exists='replace', index=False)\n",
        "\n",
        "# Close the database connection\n",
        "conn.close()"
      ],
      "metadata": {
        "id": "daYTcjkxwwOq"
      },
      "execution_count": 391,
      "outputs": []
    },
    {
      "cell_type": "code",
      "source": [
        "#Total number of workers per company\n",
        "employee_quantity=df.groupby('company')['employee_id'].count().reset_index() #.reset_index() to get clear output with title.\n",
        "print(employee_quantity)\n"
      ],
      "metadata": {
        "colab": {
          "base_uri": "https://localhost:8080/"
        },
        "id": "g2-miKJguJFZ",
        "outputId": "514347cf-6903-4684-f43c-39b99191840b"
      },
      "execution_count": 392,
      "outputs": [
        {
          "output_type": "stream",
          "name": "stdout",
          "text": [
            "    company  employee_id\n",
            "0  Cheerper         1440\n",
            "1   Glasses         2369\n",
            "2      Pear         1191\n"
          ]
        }
      ]
    },
    {
      "cell_type": "code",
      "source": [
        "#Overall salary per company\n",
        "df['salary']=df['salary'].astype(int) # change datatype into INTEGER format\n",
        "company_wise_salary=df.groupby('company')['salary'].sum().reset_index()\n",
        "print(company_wise_salary)"
      ],
      "metadata": {
        "colab": {
          "base_uri": "https://localhost:8080/"
        },
        "id": "T9K-mM-mv0wu",
        "outputId": "f696c5e3-1f75-47c4-8947-796d196892e1"
      },
      "execution_count": 393,
      "outputs": [
        {
          "output_type": "stream",
          "name": "stdout",
          "text": [
            "    company     salary\n",
            "0  Cheerper  108729956\n",
            "1   Glasses  207941156\n",
            "2      Pear  119175444\n"
          ]
        }
      ]
    },
    {
      "cell_type": "code",
      "source": [
        "#Overall anual bonus per company\n",
        "df['annual_bonus']=df['annual_bonus'].astype(int) # change datatype into INTEGER format\n",
        "company_wise_bonus=df.groupby('company')['annual_bonus'].sum().reset_index()#sum() is caculate the sum of anual bonus\n",
        "print(company_wise_bonus)"
      ],
      "metadata": {
        "colab": {
          "base_uri": "https://localhost:8080/"
        },
        "id": "ujLsBiRtugb6",
        "outputId": "5d9fd03b-c635-4b16-8402-e22eebb4ec9b"
      },
      "execution_count": 394,
      "outputs": [
        {
          "output_type": "stream",
          "name": "stdout",
          "text": [
            "    company  annual_bonus\n",
            "0  Cheerper      25556981\n",
            "1   Glasses      44237139\n",
            "2      Pear      23216527\n"
          ]
        }
      ]
    },
    {
      "cell_type": "code",
      "source": [
        "#Highest salary department in Glasses company\n",
        "df['salary']=df['salary'].astype(int)\n",
        "df_company=df[df['company']== 'Glasses'] # Select specfic company name\n",
        "df_max=df_company.sort_values(by='salary',ascending=False) # df.sort_values() function sort the salary in DESC order.\n",
        "heighst_salary=df_max.groupby('department')['salary'].sum().reset_index()\n",
        "maximum=heighst_salary.max() #Get a maximum salary department\n",
        "print(maximum)\n"
      ],
      "metadata": {
        "colab": {
          "base_uri": "https://localhost:8080/"
        },
        "id": "JrfMNZb3xr4J",
        "outputId": "53268403-b199-4cd2-a8ca-b8dd5a2f7e53"
      },
      "execution_count": 395,
      "outputs": [
        {
          "output_type": "stream",
          "name": "stdout",
          "text": [
            "department     Support\n",
            "salary        90513729\n",
            "dtype: object\n"
          ]
        }
      ]
    },
    {
      "cell_type": "code",
      "source": [
        "#Lowest workers count per company\n",
        "employee_quantity=df.groupby('company')['employee_id'].count().reset_index()\n",
        "minium_employee=employee_quantity.min() # Get a lowest employee count per company\n",
        "print(minium_employee)\n"
      ],
      "metadata": {
        "colab": {
          "base_uri": "https://localhost:8080/"
        },
        "id": "3I8_j65JD6-L",
        "outputId": "e47fd692-76ed-485b-c9d3-dc90c1d85a01"
      },
      "execution_count": 396,
      "outputs": [
        {
          "output_type": "stream",
          "name": "stdout",
          "text": [
            "company        Cheerper\n",
            "employee_id        1191\n",
            "dtype: object\n"
          ]
        }
      ]
    },
    {
      "cell_type": "code",
      "source": [
        "#Calculate employee count for selective department\n",
        "employye_count=df[df[\"department\"].isin([\"BigData\", \"Design\"])] #applying filter to get specific dept\n",
        "count_emp=employye_count.groupby('department')['employee_id'].count().reset_index()\n",
        "print(count_emp)\n"
      ],
      "metadata": {
        "colab": {
          "base_uri": "https://localhost:8080/"
        },
        "id": "7_2HDf17NfYu",
        "outputId": "e227c4c9-3517-46fb-e9c9-c6760337a348"
      },
      "execution_count": 397,
      "outputs": [
        {
          "output_type": "stream",
          "name": "stdout",
          "text": [
            "  department  employee_id\n",
            "0    BigData          797\n",
            "1     Design          720\n"
          ]
        }
      ]
    },
    {
      "cell_type": "code",
      "source": [
        "# Show the data lable of category values\n",
        "for i in range(len(employee_quantity['company'])):\n",
        "    plt.text(i, employee_quantity['employee_id'][i], employee_quantity['employee_id'][i], ha='center', va='bottom')\n",
        "\n",
        "#plot employee count in company wise\n",
        "plt.bar(employee_quantity['company'], employee_quantity['employee_id'])\n",
        "plt.xlabel('Company')\n",
        "plt.ylabel('Employee Count')\n",
        "plt.title('Employee Count in Company Wise')\n",
        "plt.show()"
      ],
      "metadata": {
        "colab": {
          "base_uri": "https://localhost:8080/",
          "height": 472
        },
        "id": "yQBuNd9_Vy4C",
        "outputId": "b8d72306-bd11-4fbe-9167-a4a3d212ab00"
      },
      "execution_count": 398,
      "outputs": [
        {
          "output_type": "display_data",
          "data": {
            "text/plain": [
              "<Figure size 640x480 with 1 Axes>"
            ],
            "image/png": "[encoded data removed]"
          },
          "metadata": {}
        }
      ]
    },
    {
      "cell_type": "code",
      "source": [
        "# Show the data lable of anual bonus\n",
        "\n",
        "for i in range(len(company_wise_bonus['company'])):\n",
        "    plt.text(i, company_wise_bonus['annual_bonus'][i], company_wise_bonus['annual_bonus'][i], ha='center', va='bottom')\n",
        "\n",
        "\n",
        "#plot anual bonus in company wise\n",
        "plt.bar(company_wise_bonus['company'], company_wise_bonus['annual_bonus'])\n",
        "plt.xlabel('Company')\n",
        "plt.ylabel('Annual Bonus')\n",
        "plt.title('Annual Bonus in Company Wise')\n",
        "plt.show()\n",
        "\n"
      ],
      "metadata": {
        "colab": {
          "base_uri": "https://localhost:8080/",
          "height": 472
        },
        "id": "zwLWm8_6XOlS",
        "outputId": "0c67d940-aad3-4c4d-9ac0-55bd03dfbc85"
      },
      "execution_count": 399,
      "outputs": [
        {
          "output_type": "display_data",
          "data": {
            "text/plain": [
              "<Figure size 640x480 with 1 Axes>"
            ],
            "image/png": "[encoded data removed]"
          },
          "metadata": {}
        }
      ]
    },
    {
      "cell_type": "code",
      "source": [
        "for i in range(len(company_wise_salary['company'])):\n",
        "    plt.text(i, company_wise_salary['salary'][i], company_wise_salary['salary'][i], ha='center', va='bottom')\n",
        "\n",
        "#plot salary in company wise\n",
        "plt.bar(company_wise_salary['company'], company_wise_salary['salary'])\n",
        "plt.xlabel('Company')\n",
        "plt.ylabel('Salary')\n",
        "plt.title('Salary in Company Wise')\n",
        "plt.show()\n"
      ],
      "metadata": {
        "colab": {
          "base_uri": "https://localhost:8080/",
          "height": 472
        },
        "id": "IuNgCaDsjnnc",
        "outputId": "c91d3442-a048-4a51-e83a-f4a4c2bcd857"
      },
      "execution_count": 400,
      "outputs": [
        {
          "output_type": "display_data",
          "data": {
            "text/plain": [
              "<Figure size 640x480 with 1 Axes>"
            ],
            "image/png": "[encoded data removed]"
          },
          "metadata": {}
        }
      ]
    }
  ]
}